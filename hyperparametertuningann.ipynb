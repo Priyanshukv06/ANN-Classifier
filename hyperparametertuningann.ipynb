{
 "cells": [
  {
   "cell_type": "markdown",
   "metadata": {},
   "source": [
    "### Determining the optimal number of hidden layers and neurons for an Artificial Neural Network (ANN) \n",
    "This can be challenging and often requires experimentation. However, there are some guidelines and methods that can help you in making an informed decision:\n",
    "\n",
    "- Start Simple: Begin with a simple architecture and gradually increase complexity if needed.\n",
    "- Grid Search/Random Search: Use grid search or random search to try different architectures.\n",
    "- Cross-Validation: Use cross-validation to evaluate the performance of different architectures.\n",
    "- Heuristics and Rules of Thumb: Some heuristics and empirical rules can provide starting points, such as:\n",
    "  -    The number of neurons in the hidden layer should be between the size of the input layer and the size of the output layer.\n",
    "  -  A common practice is to start with 1-2 hidden layers."
   ]
  },
  {
   "cell_type": "code",
   "execution_count": 1,
   "metadata": {},
   "outputs": [
    {
     "name": "stdout",
     "output_type": "stream",
     "text": [
      "Requirement already satisfied: scikeras in c:\\users\\priya\\desktop\\github\\personal\\ann_project\\annpy\\lib\\site-packages (0.12.0)\n",
      "Requirement already satisfied: packaging>=0.21 in c:\\users\\priya\\desktop\\github\\personal\\ann_project\\annpy\\lib\\site-packages (from scikeras) (24.2)\n",
      "Requirement already satisfied: scikit-learn>=1.0.0 in c:\\users\\priya\\desktop\\github\\personal\\ann_project\\annpy\\lib\\site-packages (from scikeras) (1.5.2)\n",
      "Requirement already satisfied: tensorflow-io-gcs-filesystem<0.32,>=0.23.1 in c:\\users\\priya\\desktop\\github\\personal\\ann_project\\annpy\\lib\\site-packages (from scikeras) (0.31.0)\n",
      "Requirement already satisfied: numpy>=1.19.5 in c:\\users\\priya\\desktop\\github\\personal\\ann_project\\annpy\\lib\\site-packages (from scikit-learn>=1.0.0->scikeras) (1.26.4)\n",
      "Requirement already satisfied: scipy>=1.6.0 in c:\\users\\priya\\desktop\\github\\personal\\ann_project\\annpy\\lib\\site-packages (from scikit-learn>=1.0.0->scikeras) (1.14.1)\n",
      "Requirement already satisfied: joblib>=1.2.0 in c:\\users\\priya\\desktop\\github\\personal\\ann_project\\annpy\\lib\\site-packages (from scikit-learn>=1.0.0->scikeras) (1.4.2)\n",
      "Requirement already satisfied: threadpoolctl>=3.1.0 in c:\\users\\priya\\desktop\\github\\personal\\ann_project\\annpy\\lib\\site-packages (from scikit-learn>=1.0.0->scikeras) (3.5.0)\n",
      "Note: you may need to restart the kernel to use updated packages.\n"
     ]
    }
   ],
   "source": [
    "pip install scikeras\n"
   ]
  },
  {
   "cell_type": "code",
   "execution_count": 2,
   "metadata": {},
   "outputs": [
    {
     "name": "stdout",
     "output_type": "stream",
     "text": [
      "WARNING:tensorflow:From c:\\Users\\priya\\Desktop\\GitHub\\Personal\\ann_project\\annPy\\Lib\\site-packages\\keras\\src\\losses.py:2976: The name tf.losses.sparse_softmax_cross_entropy is deprecated. Please use tf.compat.v1.losses.sparse_softmax_cross_entropy instead.\n",
      "\n"
     ]
    }
   ],
   "source": [
    "import pandas as pd\n",
    "from sklearn.model_selection import train_test_split, GridSearchCV\n",
    "from sklearn.preprocessing import StandardScaler, LabelEncoder, OneHotEncoder\n",
    "from sklearn.pipeline import Pipeline\n",
    "from scikeras.wrappers import KerasClassifier\n",
    "import tensorflow as tf\n",
    "from tensorflow.keras.models import Sequential\n",
    "from tensorflow.keras.layers import Dense\n",
    "from tensorflow.keras.callbacks import EarlyStopping\n",
    "import pickle"
   ]
  },
  {
   "cell_type": "code",
   "execution_count": 3,
   "metadata": {},
   "outputs": [],
   "source": [
    "data=pd.read_csv('Churn_Modelling.csv')\n",
    "data = data.drop(['RowNumber', 'CustomerId', 'Surname'], axis=1)\n",
    "\n",
    "label_encoder_gender = LabelEncoder()\n",
    "data['Gender'] = label_encoder_gender.fit_transform(data['Gender'])\n",
    "\n",
    "onehot_encoder_geo = OneHotEncoder(handle_unknown='ignore')\n",
    "geo_encoded = onehot_encoder_geo.fit_transform(data[['Geography']]).toarray()\n",
    "geo_encoded_df = pd.DataFrame(geo_encoded, columns=onehot_encoder_geo.get_feature_names_out(['Geography']))\n",
    "\n",
    "data = pd.concat([data.drop('Geography', axis=1), geo_encoded_df], axis=1)\n",
    "\n",
    "X = data.drop('Exited', axis=1)\n",
    "y = data['Exited']\n",
    "\n",
    "X_train, X_test, y_train, y_test = train_test_split(X, y, test_size=0.2, random_state=42)\n",
    "\n",
    "scaler = StandardScaler()\n",
    "X_train = scaler.fit_transform(X_train)\n",
    "X_test = scaler.transform(X_test)\n",
    "\n",
    "# Save encoders and scaler for later use\n",
    "with open('label_encoder_gender.pkl', 'wb') as file:\n",
    "    pickle.dump(label_encoder_gender, file)\n",
    "\n",
    "with open('onehot_encoder_geo.pkl', 'wb') as file:\n",
    "    pickle.dump(onehot_encoder_geo, file)\n",
    "\n",
    "with open('scaler.pkl', 'wb') as file:\n",
    "    pickle.dump(scaler, file)"
   ]
  },
  {
   "cell_type": "code",
   "execution_count": 4,
   "metadata": {},
   "outputs": [],
   "source": [
    "## Define a function to create the model and try different parameters(KerasClassifier)\n",
    "\n",
    "def create_model(neurons=32,layers=1):\n",
    "    model=Sequential()\n",
    "    model.add(Dense(neurons,activation='relu',input_shape=(X_train.shape[1],)))\n",
    "\n",
    "    for _ in range(layers-1):\n",
    "        model.add(Dense(neurons,activation='relu'))\n",
    "\n",
    "    model.add(Dense(1,activation='sigmoid'))\n",
    "    model.compile(optimizer='adam',loss=\"binary_crossentropy\",metrics=['accuracy'])\n",
    "\n",
    "    return model\n",
    "\n"
   ]
  },
  {
   "cell_type": "code",
   "execution_count": 5,
   "metadata": {},
   "outputs": [],
   "source": [
    "## Create a Keras classifier\n",
    "model=KerasClassifier(layers=1,neurons=32,build_fn=create_model,verbose=1)"
   ]
  },
  {
   "cell_type": "code",
   "execution_count": 6,
   "metadata": {},
   "outputs": [],
   "source": [
    "\n",
    "# Define the grid search parameters\n",
    "param_grid = {\n",
    "    'neurons': [16, 32, 64, 128],\n",
    "    'layers': [1, 2],\n",
    "    'epochs': [50, 100]\n",
    "}\n"
   ]
  },
  {
   "cell_type": "code",
   "execution_count": 8,
   "metadata": {},
   "outputs": [
    {
     "name": "stdout",
     "output_type": "stream",
     "text": [
      "Fitting 3 folds for each of 16 candidates, totalling 48 fits\n",
      "Epoch 1/50\n"
     ]
    },
    {
     "name": "stderr",
     "output_type": "stream",
     "text": [
      "c:\\Users\\priya\\Desktop\\GitHub\\Personal\\ann_project\\annPy\\Lib\\site-packages\\scikeras\\wrappers.py:915: UserWarning: ``build_fn`` will be renamed to ``model`` in a future release, at which point use of ``build_fn`` will raise an Error instead.\n",
      "  X, y = self._initialize(X, y)\n"
     ]
    },
    {
     "name": "stdout",
     "output_type": "stream",
     "text": [
      "250/250 [==============================] - 1s 768us/step - loss: 0.4638 - accuracy: 0.8031\n",
      "Epoch 2/50\n",
      "250/250 [==============================] - 0s 743us/step - loss: 0.4269 - accuracy: 0.8160\n",
      "Epoch 3/50\n",
      "250/250 [==============================] - 0s 743us/step - loss: 0.4145 - accuracy: 0.8245\n",
      "Epoch 4/50\n",
      "250/250 [==============================] - 0s 751us/step - loss: 0.4060 - accuracy: 0.8273\n",
      "Epoch 5/50\n",
      "250/250 [==============================] - 0s 763us/step - loss: 0.3994 - accuracy: 0.8281\n",
      "Epoch 6/50\n",
      "250/250 [==============================] - 0s 733us/step - loss: 0.3938 - accuracy: 0.8306\n",
      "Epoch 7/50\n",
      "250/250 [==============================] - 0s 733us/step - loss: 0.3884 - accuracy: 0.8315\n",
      "Epoch 8/50\n",
      "250/250 [==============================] - 0s 725us/step - loss: 0.3817 - accuracy: 0.8394\n",
      "Epoch 9/50\n",
      "250/250 [==============================] - 0s 747us/step - loss: 0.3741 - accuracy: 0.8444\n",
      "Epoch 10/50\n",
      "250/250 [==============================] - 0s 751us/step - loss: 0.3677 - accuracy: 0.8504\n",
      "Epoch 11/50\n",
      "250/250 [==============================] - 0s 779us/step - loss: 0.3627 - accuracy: 0.8506\n",
      "Epoch 12/50\n",
      "250/250 [==============================] - 0s 743us/step - loss: 0.3591 - accuracy: 0.8543\n",
      "Epoch 13/50\n",
      "250/250 [==============================] - 0s 751us/step - loss: 0.3559 - accuracy: 0.8543\n",
      "Epoch 14/50\n",
      "250/250 [==============================] - 0s 751us/step - loss: 0.3532 - accuracy: 0.8559\n",
      "Epoch 15/50\n",
      "250/250 [==============================] - 0s 747us/step - loss: 0.3508 - accuracy: 0.8594\n",
      "Epoch 16/50\n",
      "250/250 [==============================] - 0s 767us/step - loss: 0.3489 - accuracy: 0.8581\n",
      "Epoch 17/50\n",
      "250/250 [==============================] - 0s 747us/step - loss: 0.3474 - accuracy: 0.8593\n",
      "Epoch 18/50\n",
      "250/250 [==============================] - 0s 757us/step - loss: 0.3459 - accuracy: 0.8594\n",
      "Epoch 19/50\n",
      "250/250 [==============================] - 0s 749us/step - loss: 0.3447 - accuracy: 0.8614\n",
      "Epoch 20/50\n",
      "250/250 [==============================] - 0s 803us/step - loss: 0.3437 - accuracy: 0.8621\n",
      "Epoch 21/50\n",
      "250/250 [==============================] - 0s 898us/step - loss: 0.3430 - accuracy: 0.8597\n",
      "Epoch 22/50\n",
      "250/250 [==============================] - 0s 889us/step - loss: 0.3424 - accuracy: 0.8616\n",
      "Epoch 23/50\n",
      "250/250 [==============================] - 0s 882us/step - loss: 0.3422 - accuracy: 0.8597\n",
      "Epoch 24/50\n",
      "250/250 [==============================] - 0s 874us/step - loss: 0.3417 - accuracy: 0.8619\n",
      "Epoch 25/50\n",
      "250/250 [==============================] - 0s 935us/step - loss: 0.3412 - accuracy: 0.8609\n",
      "Epoch 26/50\n",
      "250/250 [==============================] - 0s 937us/step - loss: 0.3407 - accuracy: 0.8612\n",
      "Epoch 27/50\n",
      "250/250 [==============================] - 0s 1ms/step - loss: 0.3405 - accuracy: 0.8616\n",
      "Epoch 28/50\n",
      "250/250 [==============================] - 0s 869us/step - loss: 0.3401 - accuracy: 0.8601\n",
      "Epoch 29/50\n",
      "250/250 [==============================] - 0s 824us/step - loss: 0.3397 - accuracy: 0.8614\n",
      "Epoch 30/50\n",
      "250/250 [==============================] - 0s 873us/step - loss: 0.3395 - accuracy: 0.8615\n",
      "Epoch 31/50\n",
      "250/250 [==============================] - 0s 893us/step - loss: 0.3394 - accuracy: 0.8615\n",
      "Epoch 32/50\n",
      "250/250 [==============================] - 0s 797us/step - loss: 0.3392 - accuracy: 0.8618\n",
      "Epoch 33/50\n",
      "250/250 [==============================] - 0s 757us/step - loss: 0.3394 - accuracy: 0.8606\n",
      "Epoch 34/50\n",
      "250/250 [==============================] - 0s 771us/step - loss: 0.3387 - accuracy: 0.8633\n",
      "Epoch 35/50\n",
      "250/250 [==============================] - 0s 928us/step - loss: 0.3384 - accuracy: 0.8612\n",
      "Epoch 36/50\n",
      "250/250 [==============================] - 0s 945us/step - loss: 0.3384 - accuracy: 0.8612\n",
      "Epoch 37/50\n",
      "250/250 [==============================] - 0s 872us/step - loss: 0.3380 - accuracy: 0.8621\n",
      "Epoch 38/50\n",
      "250/250 [==============================] - 0s 796us/step - loss: 0.3380 - accuracy: 0.8621\n",
      "Epoch 39/50\n",
      "250/250 [==============================] - 0s 806us/step - loss: 0.3380 - accuracy: 0.8624\n",
      "Epoch 40/50\n",
      "250/250 [==============================] - 0s 780us/step - loss: 0.3379 - accuracy: 0.8616\n",
      "Epoch 41/50\n",
      "250/250 [==============================] - 0s 776us/step - loss: 0.3374 - accuracy: 0.8626\n",
      "Epoch 42/50\n",
      "250/250 [==============================] - 0s 779us/step - loss: 0.3371 - accuracy: 0.8641\n",
      "Epoch 43/50\n",
      "250/250 [==============================] - 0s 775us/step - loss: 0.3369 - accuracy: 0.8625\n",
      "Epoch 44/50\n",
      "250/250 [==============================] - 0s 780us/step - loss: 0.3367 - accuracy: 0.8625\n",
      "Epoch 45/50\n",
      "250/250 [==============================] - 0s 787us/step - loss: 0.3365 - accuracy: 0.8615\n",
      "Epoch 46/50\n",
      "250/250 [==============================] - 0s 787us/step - loss: 0.3367 - accuracy: 0.8615\n",
      "Epoch 47/50\n",
      "250/250 [==============================] - 0s 825us/step - loss: 0.3366 - accuracy: 0.8615\n",
      "Epoch 48/50\n",
      "250/250 [==============================] - 0s 761us/step - loss: 0.3365 - accuracy: 0.8618\n",
      "Epoch 49/50\n",
      "250/250 [==============================] - 0s 808us/step - loss: 0.3365 - accuracy: 0.8614\n",
      "Epoch 50/50\n",
      "250/250 [==============================] - 0s 779us/step - loss: 0.3361 - accuracy: 0.8630\n",
      "Best: 0.856624 using {'epochs': 50, 'layers': 1, 'neurons': 16}\n"
     ]
    }
   ],
   "source": [
    "# Perform grid search\n",
    "grid = GridSearchCV(estimator=model, param_grid=param_grid, n_jobs=-1, cv=3,verbose=1)\n",
    "grid_result = grid.fit(X_train, y_train)\n",
    "\n",
    "# Print the best parameters\n",
    "print(\"Best: %f using %s\" % (grid_result.best_score_, grid_result.best_params_))"
   ]
  },
  {
   "cell_type": "code",
   "execution_count": null,
   "metadata": {},
   "outputs": [],
   "source": []
  },
  {
   "cell_type": "code",
   "execution_count": null,
   "metadata": {},
   "outputs": [],
   "source": []
  }
 ],
 "metadata": {
  "kernelspec": {
   "display_name": "annPy",
   "language": "python",
   "name": "python3"
  },
  "language_info": {
   "codemirror_mode": {
    "name": "ipython",
    "version": 3
   },
   "file_extension": ".py",
   "mimetype": "text/x-python",
   "name": "python",
   "nbconvert_exporter": "python",
   "pygments_lexer": "ipython3",
   "version": "3.11.0"
  }
 },
 "nbformat": 4,
 "nbformat_minor": 2
}
